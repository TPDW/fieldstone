{
 "cells": [
  {
   "cell_type": "markdown",
   "metadata": {},
   "source": [
    "#Sympy examination of the benchmark of Donea and Huerta "
   ]
  },
  {
   "cell_type": "code",
   "execution_count": 1,
   "metadata": {},
   "outputs": [],
   "source": [
    "from sympy import *\n",
    "init_printing()\n",
    "import numpy as np\n",
    "import matplotlib.pyplot as plt\n",
    "%matplotlib inline\n",
    "import inspect"
   ]
  },
  {
   "cell_type": "markdown",
   "metadata": {},
   "source": [
    "Firstly, we will simply repeat their findings and show the benchmark itself"
   ]
  },
  {
   "cell_type": "markdown",
   "metadata": {},
   "source": [
    "\\begin{eqnarray}\n",
    "u(x,y) &=& x^2(1- x)^2 (2y - 6y^2 + 4y^3)  \\nonumber\\\\\n",
    "v(x,y) &=& -y^2 (1 - y)^2 (2x - 6x^2 + 4x^3) \\nonumber\\\\\n",
    "p(x,y) &=& x(1 -x)- 1/6 \\nonumber \n",
    "\\end{eqnarray}\n",
    "Note that the pressure obeys $\\int_{\\Omega} p \\; d\\Omega = 0$\n",
    "\n",
    "The corresponding components of the body force $\\bm b$ are prescribed as \n",
    "\\begin{eqnarray}\n",
    "b_x &=& (12 - 24y) x^4 + (-24 + 48y) x^3 + (-48y + 72y^2 - 48 y^3 + 12) x^2 \\nonumber\\\\\n",
    "    && + (-2 + 24y -72y^2+48y^3)x + 1-4y + 12y^2-8y^3 \\nonumber\\\\ \n",
    "b_y &=& (8 - 48y + 48 y^2) x^3 + (-12 + 72y - 72y^2) x^2  \\nonumber\\\\\n",
    "    && + (4 - 24y + 48y^2 - 48y^3 + 24y^4) x - 12y^2 + 24y^3 - 12y^4  \\nonumber\n",
    "\\end{eqnarray}\n",
    "With this prescribed body force, the exact solution is "
   ]
  },
  {
   "cell_type": "code",
   "execution_count": 2,
   "metadata": {},
   "outputs": [],
   "source": [
    "x,y = symbols('x y')\n",
    "u,v,p = symbols('u v p')\n",
    "exx,eyy,exy,eyx = symbols('\\epsilon_{xx} \\epsilon_{yy} \\epsilon_{xy} \\epsilon_{yx}')\n",
    "sxx,syy,sxy,syx = symbols('\\sigma_{xx} \\sigma_{yy} \\sigma_{xy} \\sigma_{yx}')\n"
   ]
  },
  {
   "cell_type": "code",
   "execution_count": 3,
   "metadata": {},
   "outputs": [
    {
     "data": {
      "image/png": "[encoded data removed]",
      "text/latex": [
       "$$x^{2} \\left(- x + 1\\right)^{2} \\left(4 y^{3} - 6 y^{2} + 2 y\\right)$$"
      ],
      "text/plain": [
       " 2         2 ⎛   3      2      ⎞\n",
       "x ⋅(-x + 1) ⋅⎝4⋅y  - 6⋅y  + 2⋅y⎠"
      ]
     },
     "execution_count": 3,
     "metadata": {},
     "output_type": "execute_result"
    }
   ],
   "source": [
    "u = x**2*(1-x)**2 * (2*y-6*y**2+4*y**3)\n",
    "u"
   ]
  },
  {
   "cell_type": "code",
   "execution_count": 4,
   "metadata": {},
   "outputs": [
    {
     "data": {
      "image/png": "[encoded data removed]",
      "text/latex": [
       "$$- y^{2} \\left(- y + 1\\right)^{2} \\left(4 x^{3} - 6 x^{2} + 2 x\\right)$$"
      ],
      "text/plain": [
       "  2         2 ⎛   3      2      ⎞\n",
       "-y ⋅(-y + 1) ⋅⎝4⋅x  - 6⋅x  + 2⋅x⎠"
      ]
     },
     "execution_count": 4,
     "metadata": {},
     "output_type": "execute_result"
    }
   ],
   "source": [
    "v = -y**2*(1-y)**2*(2*x-6*x**2+4*x**3)\n",
    "v"
   ]
  },
  {
   "cell_type": "code",
   "execution_count": 5,
   "metadata": {},
   "outputs": [
    {
     "data": {
      "image/png": "[encoded data removed]",
      "text/latex": [
       "$$x \\left(- x + 1\\right) - \\frac{1}{6}$$"
      ],
      "text/plain": [
       "x⋅(-x + 1) - 1/6"
      ]
     },
     "execution_count": 5,
     "metadata": {},
     "output_type": "execute_result"
    }
   ],
   "source": [
    "p=x*(1-x)-Rational(1,6)\n",
    "p"
   ]
  },
  {
   "cell_type": "markdown",
   "metadata": {},
   "source": [
    "Could verify the body forces here, but no real point"
   ]
  },
  {
   "cell_type": "markdown",
   "metadata": {},
   "source": [
    "Next step is to calculate the components of the strain rate tensor $\\epsilon$\n"
   ]
  },
  {
   "cell_type": "code",
   "execution_count": 6,
   "metadata": {},
   "outputs": [
    {
     "data": {
      "image/png": "[encoded data removed]",
      "text/latex": [
       "$$x^{2} \\left(2 x - 2\\right) \\left(4 y^{3} - 6 y^{2} + 2 y\\right) + 2 x \\left(- x + 1\\right)^{2} \\left(4 y^{3} - 6 y^{2} + 2 y\\right)$$"
      ],
      "text/plain": [
       " 2           ⎛   3      2      ⎞               2 ⎛   3      2      ⎞\n",
       "x ⋅(2⋅x - 2)⋅⎝4⋅y  - 6⋅y  + 2⋅y⎠ + 2⋅x⋅(-x + 1) ⋅⎝4⋅y  - 6⋅y  + 2⋅y⎠"
      ]
     },
     "execution_count": 6,
     "metadata": {},
     "output_type": "execute_result"
    }
   ],
   "source": [
    "exx = diff(u,x)\n",
    "exx"
   ]
  },
  {
   "cell_type": "code",
   "execution_count": 7,
   "metadata": {},
   "outputs": [
    {
     "data": {
      "image/png": "[encoded data removed]",
      "text/latex": [
       "$$- y^{2} \\left(2 y - 2\\right) \\left(4 x^{3} - 6 x^{2} + 2 x\\right) - 2 y \\left(- y + 1\\right)^{2} \\left(4 x^{3} - 6 x^{2} + 2 x\\right)$$"
      ],
      "text/plain": [
       "   2           ⎛   3      2      ⎞               2 ⎛   3      2      ⎞\n",
       "- y ⋅(2⋅y - 2)⋅⎝4⋅x  - 6⋅x  + 2⋅x⎠ - 2⋅y⋅(-y + 1) ⋅⎝4⋅x  - 6⋅x  + 2⋅x⎠"
      ]
     },
     "execution_count": 7,
     "metadata": {},
     "output_type": "execute_result"
    }
   ],
   "source": [
    "eyy = diff(v,y)\n",
    "eyy"
   ]
  },
  {
   "cell_type": "code",
   "execution_count": 8,
   "metadata": {},
   "outputs": [
    {
     "data": {
      "image/png": "[encoded data removed]",
      "text/latex": [
       "$$\\frac{x^{2}}{2} \\left(- x + 1\\right)^{2} \\left(12 y^{2} - 12 y + 2\\right) - \\frac{y^{2}}{2} \\left(- y + 1\\right)^{2} \\left(12 x^{2} - 12 x + 2\\right)$$"
      ],
      "text/plain": [
       " 2         2 ⎛    2           ⎞    2         2 ⎛    2           ⎞\n",
       "x ⋅(-x + 1) ⋅⎝12⋅y  - 12⋅y + 2⎠   y ⋅(-y + 1) ⋅⎝12⋅x  - 12⋅x + 2⎠\n",
       "─────────────────────────────── - ───────────────────────────────\n",
       "               2                                 2               "
      ]
     },
     "execution_count": 8,
     "metadata": {},
     "output_type": "execute_result"
    }
   ],
   "source": [
    "exy = Rational(1,2)*(diff(u,y) + diff(v,x))\n",
    "eyx=exy\n",
    "eyx"
   ]
  },
  {
   "cell_type": "markdown",
   "metadata": {},
   "source": [
    "Now $\\sigma_{ij} = \\epsilon_{ij} + p \\delta_{ij}$"
   ]
  },
  {
   "cell_type": "code",
   "execution_count": 9,
   "metadata": {},
   "outputs": [],
   "source": [
    "sxx = exx+p\n",
    "syy = eyy+p\n",
    "sxy = exy\n",
    "syx = eyx"
   ]
  },
  {
   "cell_type": "code",
   "execution_count": 10,
   "metadata": {},
   "outputs": [
    {
     "data": {
      "image/png": "[encoded data removed]",
      "text/latex": [
       "$$x^{2} \\left(2 x - 2\\right) \\left(4 y^{3} - 6 y^{2} + 2 y\\right) + 2 x \\left(- x + 1\\right)^{2} \\left(4 y^{3} - 6 y^{2} + 2 y\\right) + x \\left(- x + 1\\right) - \\frac{1}{6}$$"
      ],
      "text/plain": [
       " 2           ⎛   3      2      ⎞               2 ⎛   3      2      ⎞          \n",
       "x ⋅(2⋅x - 2)⋅⎝4⋅y  - 6⋅y  + 2⋅y⎠ + 2⋅x⋅(-x + 1) ⋅⎝4⋅y  - 6⋅y  + 2⋅y⎠ + x⋅(-x +\n",
       "                                                                              \n",
       "\n",
       "      1\n",
       " 1) - ─\n",
       "      6"
      ]
     },
     "execution_count": 10,
     "metadata": {},
     "output_type": "execute_result"
    }
   ],
   "source": [
    "sxx"
   ]
  },
  {
   "cell_type": "code",
   "execution_count": 11,
   "metadata": {},
   "outputs": [
    {
     "data": {
      "image/png": "[encoded data removed]",
      "text/latex": [
       "$$x \\left(- x + 1\\right) - y^{2} \\left(2 y - 2\\right) \\left(4 x^{3} - 6 x^{2} + 2 x\\right) - 2 y \\left(- y + 1\\right)^{2} \\left(4 x^{3} - 6 x^{2} + 2 x\\right) - \\frac{1}{6}$$"
      ],
      "text/plain": [
       "              2           ⎛   3      2      ⎞               2 ⎛   3      2    \n",
       "x⋅(-x + 1) - y ⋅(2⋅y - 2)⋅⎝4⋅x  - 6⋅x  + 2⋅x⎠ - 2⋅y⋅(-y + 1) ⋅⎝4⋅x  - 6⋅x  + 2\n",
       "                                                                              \n",
       "\n",
       "  ⎞   1\n",
       "⋅x⎠ - ─\n",
       "      6"
      ]
     },
     "execution_count": 11,
     "metadata": {},
     "output_type": "execute_result"
    }
   ],
   "source": [
    "syy"
   ]
  },
  {
   "cell_type": "code",
   "execution_count": 12,
   "metadata": {},
   "outputs": [
    {
     "data": {
      "image/png": "[encoded data removed]",
      "text/latex": [
       "$$\\frac{x^{2}}{2} \\left(- x + 1\\right)^{2} \\left(12 y^{2} - 12 y + 2\\right) - \\frac{y^{2}}{2} \\left(- y + 1\\right)^{2} \\left(12 x^{2} - 12 x + 2\\right)$$"
      ],
      "text/plain": [
       " 2         2 ⎛    2           ⎞    2         2 ⎛    2           ⎞\n",
       "x ⋅(-x + 1) ⋅⎝12⋅y  - 12⋅y + 2⎠   y ⋅(-y + 1) ⋅⎝12⋅x  - 12⋅x + 2⎠\n",
       "─────────────────────────────── - ───────────────────────────────\n",
       "               2                                 2               "
      ]
     },
     "execution_count": 12,
     "metadata": {},
     "output_type": "execute_result"
    }
   ],
   "source": [
    "sxy"
   ]
  },
  {
   "cell_type": "code",
   "execution_count": 13,
   "metadata": {},
   "outputs": [
    {
     "data": {
      "image/png": "[encoded data removed]",
      "text/latex": [
       "$$\\frac{x^{2}}{2} \\left(- x + 1\\right)^{2} \\left(12 y^{2} - 12 y + 2\\right) - \\frac{y^{2}}{2} \\left(- y + 1\\right)^{2} \\left(12 x^{2} - 12 x + 2\\right)$$"
      ],
      "text/plain": [
       " 2         2 ⎛    2           ⎞    2         2 ⎛    2           ⎞\n",
       "x ⋅(-x + 1) ⋅⎝12⋅y  - 12⋅y + 2⎠   y ⋅(-y + 1) ⋅⎝12⋅x  - 12⋅x + 2⎠\n",
       "─────────────────────────────── - ───────────────────────────────\n",
       "               2                                 2               "
      ]
     },
     "execution_count": 13,
     "metadata": {},
     "output_type": "execute_result"
    }
   ],
   "source": [
    "syx"
   ]
  },
  {
   "cell_type": "markdown",
   "metadata": {},
   "source": [
    "Now I want to verify that this all works the way I think it does\n",
    "\n",
    "The equations of motion are given by $\\partial_j \\tau_{ij} - \\partial_i p = \\rho g_i $\n",
    "\n",
    "where $\\tau_{ij} = \\mu (\\partial_i u_j + \\partial_j u_i)$. I'm just going to assume $\\mu = \\rho = 1$"
   ]
  },
  {
   "cell_type": "code",
   "execution_count": 14,
   "metadata": {},
   "outputs": [],
   "source": [
    "tau_xx = 2*diff(u,x)\n",
    "tau_yy = 2*diff(v,y)\n",
    "tau_yx = diff(u,y) + diff(v,x)\n",
    "tau_xy = diff(u,y) + diff(v,x)"
   ]
  },
  {
   "cell_type": "code",
   "execution_count": 15,
   "metadata": {},
   "outputs": [
    {
     "ename": "NameError",
     "evalue": "name 'b_x' is not defined",
     "output_type": "error",
     "traceback": [
      "\u001b[0;31m---------------------------------------------------------------------------\u001b[0m",
      "\u001b[0;31mNameError\u001b[0m                                 Traceback (most recent call last)",
      "\u001b[0;32m<ipython-input-15-350fb0859678>\u001b[0m in \u001b[0;36m<module>\u001b[0;34m()\u001b[0m\n\u001b[0;32m----> 1\u001b[0;31m \u001b[0;34m(\u001b[0m\u001b[0mdiff\u001b[0m\u001b[0;34m(\u001b[0m\u001b[0mtau_xx\u001b[0m\u001b[0;34m,\u001b[0m\u001b[0mx\u001b[0m\u001b[0;34m)\u001b[0m \u001b[0;34m+\u001b[0m \u001b[0mdiff\u001b[0m\u001b[0;34m(\u001b[0m\u001b[0mtau_xy\u001b[0m\u001b[0;34m,\u001b[0m\u001b[0my\u001b[0m\u001b[0;34m)\u001b[0m\u001b[0;34m-\u001b[0m\u001b[0mdiff\u001b[0m\u001b[0;34m(\u001b[0m\u001b[0mp\u001b[0m\u001b[0;34m,\u001b[0m\u001b[0mx\u001b[0m\u001b[0;34m)\u001b[0m\u001b[0;34m-\u001b[0m\u001b[0mb_x\u001b[0m\u001b[0;34m)\u001b[0m\u001b[0;34m.\u001b[0m\u001b[0mexpand\u001b[0m\u001b[0;34m(\u001b[0m\u001b[0;34m)\u001b[0m\u001b[0;34m.\u001b[0m\u001b[0msubs\u001b[0m\u001b[0;34m(\u001b[0m\u001b[0mx\u001b[0m\u001b[0;34m,\u001b[0m\u001b[0;36m1\u001b[0m\u001b[0;34m)\u001b[0m\u001b[0;34m.\u001b[0m\u001b[0msubs\u001b[0m\u001b[0;34m(\u001b[0m\u001b[0my\u001b[0m\u001b[0;34m,\u001b[0m\u001b[0;36m1\u001b[0m\u001b[0;34m)\u001b[0m\u001b[0;34m\u001b[0m\u001b[0m\n\u001b[0m",
      "\u001b[0;31mNameError\u001b[0m: name 'b_x' is not defined"
     ]
    }
   ],
   "source": [
    "(diff(tau_xx,x) + diff(tau_xy,y)-diff(p,x)-b_x).expand().subs(x,1).subs(y,1)"
   ]
  },
  {
   "cell_type": "code",
   "execution_count": null,
   "metadata": {},
   "outputs": [],
   "source": [
    "b_x = (12-24*y)*x**4 + (-12+48*y)*x**3 + (-48*y+72*y**2-48*y**3+12)*x**2 \\\n",
    "+(-2+24*y-72*y**2+48*y**3)*x+1-4*y+12*y**2-8*y**3"
   ]
  },
  {
   "cell_type": "code",
   "execution_count": null,
   "metadata": {},
   "outputs": [],
   "source": []
  },
  {
   "cell_type": "code",
   "execution_count": null,
   "metadata": {},
   "outputs": [],
   "source": []
  },
  {
   "cell_type": "markdown",
   "metadata": {},
   "source": [
    "The corresponding components of the body force $\\bm b$ are prescribed as \n",
    "\\begin{eqnarray}\n",
    "b_x &=& (12 - 24y) x^4 + (-24 + 48y) x^3 + (-48y + 72y^2 - 48 y^3 + 12) x^2 \\nonumber\\\\\n",
    "    && + (-2 + 24y -72y^2+48y^3)x + 1-4y + 12y^2-8y^3 \\nonumber\\\\     \n",
    "b_y &=& (8 - 48y + 48 y^2) x^3 + (-12 + 72y - 72y^2) x^2  \\nonumber\\\\\n",
    "    && + (4 - 24y + 48y^2 - 48y^3 + 24y^4) x - 12y^2 + 24y^3 - 12y^4  \\nonumber\n",
    "\\end{eqnarray}"
   ]
  },
  {
   "cell_type": "code",
   "execution_count": null,
   "metadata": {},
   "outputs": [],
   "source": [
    "p"
   ]
  },
  {
   "cell_type": "code",
   "execution_count": null,
   "metadata": {},
   "outputs": [],
   "source": [
    "#Now for some plotting I guess"
   ]
  },
  {
   "cell_type": "code",
   "execution_count": null,
   "metadata": {},
   "outputs": [],
   "source": [
    "u_func=lambdify((x,y),u)"
   ]
  },
  {
   "cell_type": "code",
   "execution_count": null,
   "metadata": {},
   "outputs": [],
   "source": [
    "x_ls=np.linspace(0,1,1000)\n",
    "y_ls=np.linspace(0,1,1000)"
   ]
  },
  {
   "cell_type": "code",
   "execution_count": null,
   "metadata": {},
   "outputs": [],
   "source": [
    "X_grid,Y_grid = np.meshgrid(x_ls,y_ls)"
   ]
  },
  {
   "cell_type": "code",
   "execution_count": null,
   "metadata": {},
   "outputs": [],
   "source": [
    "plt.contourf(u_func(X_grid,Y_grid))"
   ]
  },
  {
   "cell_type": "code",
   "execution_count": null,
   "metadata": {},
   "outputs": [],
   "source": [
    "exx_func = lambdify((x,y),exx)"
   ]
  },
  {
   "cell_type": "code",
   "execution_count": null,
   "metadata": {},
   "outputs": [],
   "source": [
    "plt.contourf(exx_func(X_grid,Y_grid))"
   ]
  },
  {
   "cell_type": "code",
   "execution_count": null,
   "metadata": {},
   "outputs": [],
   "source": [
    "sxx_func = lambdify((x,y,),sxx)\n",
    "sxy_func = lambdify((x,y,),sxy)\n",
    "syx_func = lambdify((x,y,),syx)\n",
    "syy_func = lambdify((x,y,),syy)"
   ]
  },
  {
   "cell_type": "code",
   "execution_count": null,
   "metadata": {},
   "outputs": [],
   "source": [
    "fig,((ax1,ax2),(ax3,ax4)) = plt.subplots(2,2,figsize=(10,10))\n",
    "\n",
    "ax1.plot(sxy_func(x_ls,0),label=\"tx\")\n",
    "ax1.plot(syy_func(x_ls,0),label=\"ty\")\n",
    "ax1.set_title(\"Lower Boundary\")\n",
    "ax1.legend()\n",
    "\n",
    "ax2.plot(-sxy_func(x_ls,1),label=\"tx\")\n",
    "ax2.plot(-syy_func(x_ls,1),label=\"ty\")\n",
    "ax2.set_title(\"Upper Boundary\")\n",
    "ax2.legend()\n",
    "\n",
    "ax3.plot(sxx_func(1,y_ls),label=\"tx\")\n",
    "ax3.plot(sxy_func(1,y_ls),label=\"ty\")\n",
    "ax3.set_title(\"Right Boundary\")\n",
    "ax3.legend()\n",
    "\n",
    "ax4.plot(-sxx_func(0,y_ls),label=\"tx\")\n",
    "ax4.plot(-sxy_func(0,y_ls),label=\"ty\")\n",
    "ax4.set_title(\"Left Boundary\")\n",
    "ax4.legend()"
   ]
  },
  {
   "cell_type": "code",
   "execution_count": null,
   "metadata": {},
   "outputs": [],
   "source": [
    "python(syy)"
   ]
  },
  {
   "cell_type": "code",
   "execution_count": null,
   "metadata": {},
   "outputs": [],
   "source": []
  },
  {
   "cell_type": "code",
   "execution_count": null,
   "metadata": {},
   "outputs": [],
   "source": []
  }
 ],
 "metadata": {
  "kernelspec": {
   "display_name": "Python 3",
   "language": "python",
   "name": "python3"
  },
  "language_info": {
   "codemirror_mode": {
    "name": "ipython",
    "version": 3
   },
   "file_extension": ".py",
   "mimetype": "text/x-python",
   "name": "python",
   "nbconvert_exporter": "python",
   "pygments_lexer": "ipython3",
   "version": "3.6.2"
  }
 },
 "nbformat": 4,
 "nbformat_minor": 2
}
