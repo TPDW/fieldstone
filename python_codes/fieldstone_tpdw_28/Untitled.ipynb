{
 "cells": [
  {
   "cell_type": "code",
   "execution_count": 40,
   "metadata": {},
   "outputs": [],
   "source": [
    "import numpy as np\n",
    "from scipy import stats\n",
    "import sys"
   ]
  },
  {
   "cell_type": "code",
   "execution_count": 2,
   "metadata": {},
   "outputs": [],
   "source": [
    "def get_regression(h,y):\n",
    "    y=np.abs(y)\n",
    "    x=np.abs(h)\n",
    "    #return np.linalg.lstsq(np.vstack([np.log(h), np.ones(len(np.log(h)))]).T,np.log(y))[0][0]\n",
    "    return stats.linregress(np.log(x),np.log(y))[0]"
   ]
  },
  {
   "cell_type": "code",
   "execution_count": 60,
   "metadata": {},
   "outputs": [],
   "source": [
    "exx_l2 =np.loadtxt(\"errors_exx\",usecols=[2,5,6,7,8,9,10,11,12])\n",
    "exy_l2 =np.loadtxt(\"errors_exy\",usecols=[2,5,6,7,8,9,10,11,12])\n",
    "exx_int=np.loadtxt(\"nodal_errors_exx_internal\",usecols=[2,8,9,10])\n",
    "exy_int=np.loadtxt(\"nodal_errors_exy_internal\",usecols=[2,8,9,10])\n",
    "exx_edg=np.loadtxt(\"nodal_errors_exx_edge\",usecols=[2,8,9,10])\n",
    "exy_edg=np.loadtxt(\"nodal_errors_exx_edge\",usecols=[2,8,9,10])"
   ]
  },
  {
   "cell_type": "code",
   "execution_count": 61,
   "metadata": {},
   "outputs": [],
   "source": [
    "exx_l2_centre =get_regression(1/np.sqrt(exx_l2[:,0] ),exx_l2[:,2] )\n",
    "exx_l2_corner =get_regression(1/np.sqrt(exx_l2[:,0] ),exx_l2[:,3] )\n",
    "exx_l2_superc =get_regression(1/np.sqrt(exx_l2[:,0] ),exx_l2[:,8] )\n",
    "exy_l2_centre =get_regression(1/np.sqrt(exy_l2[:,0] ),exy_l2[:,2] )\n",
    "exy_l2_corner =get_regression(1/np.sqrt(exy_l2[:,0] ),exy_l2[:,3] )\n",
    "exy_l2_superc =get_regression(1/np.sqrt(exy_l2[:,0] ),exy_l2[:,8] )\n",
    "\n",
    "exx_int_centre=get_regression(1/np.sqrt(exx_int[:,0]),exx_int[:,1])\n",
    "exy_int_centre=get_regression(1/np.sqrt(exy_int[:,0]),exy_int[:,1])\n",
    "exx_int_corner=get_regression(1/np.sqrt(exx_int[:,0]),exx_int[:,2])\n",
    "exy_int_corner=get_regression(1/np.sqrt(exy_int[:,0]),exy_int[:,2])\n",
    "exx_int_superc=get_regression(1/np.sqrt(exx_int[:,0]),exx_int[:,3])\n",
    "exy_int_superc=get_regression(1/np.sqrt(exy_int[:,0]),exy_int[:,3])\n",
    "\n",
    "exx_edg_centre=get_regression(1/np.sqrt(exx_edg[:,0]),exx_edg[:,1])\n",
    "exy_edg_centre=get_regression(1/np.sqrt(exy_edg[:,0]),exy_edg[:,1])\n",
    "exx_edg_corner=get_regression(1/np.sqrt(exx_edg[:,0]),exx_edg[:,2])\n",
    "exy_edg_corner=get_regression(1/np.sqrt(exy_edg[:,0]),exy_edg[:,2])\n",
    "exx_edg_superc=get_regression(1/np.sqrt(exx_edg[:,0]),exx_edg[:,3])\n",
    "exy_edg_superc=get_regression(1/np.sqrt(exy_edg[:,0]),exy_edg[:,3])"
   ]
  },
  {
   "cell_type": "code",
   "execution_count": null,
   "metadata": {},
   "outputs": [],
   "source": []
  },
  {
   "cell_type": "code",
   "execution_count": null,
   "metadata": {},
   "outputs": [],
   "source": [
    "\n"
   ]
  },
  {
   "cell_type": "code",
   "execution_count": 63,
   "metadata": {},
   "outputs": [],
   "source": [
    "filename=\"table_q2q1_convergences\""
   ]
  },
  {
   "cell_type": "code",
   "execution_count": 81,
   "metadata": {},
   "outputs": [],
   "source": [
    "file=open(filename,'w')\n",
    "file.write(\"\\\\begin{table}\\n\")\n",
    "file.write(\"\\label{table:q2q1}\\n\")\n",
    "file.write(\"\\caption{Top left corner tractions.}\\n\")\n",
    "file.write(\"\\\\begin{center}\\n\")\n",
    "file.write(\"\\\\begin{tabular}{| c | c c c c c c |} \\n\")\n",
    "file.write(\"\\hline \\n\")\n",
    "file.write(\"Method & \\multicolumn{6}{c|}{Convergence Rate} \\\\\\ \\hline\\n\")\n",
    "file.write(\"& \\multicolumn{2}{c|}{$L_2$} & \\multicolumn{2}{c|}{Interal} & \\multicolumn{2}{c|}{Edge} \\\\\\ \\hline\\n\")\n",
    "file.write(\"& $e_{xx}$ & $e_{xy}$ & $e_{xx}$ & $e_{xy}$ & $e_{xx}$ & $e_{xy}$ \\\\\\ \\hline\\n\")\n",
    "file.write(\"Centre to Node & {:.2f} & {:.2f} & {:.2f} & {:.2f} & {:.2f} & {:.2f} \\\\\\ \\hline\\n\".format(exx_l2_centre,exy_l2_centre,exx_int_centre,exy_int_centre,exx_edg_centre,exy_edg_centre))\n",
    "file.write(\"Corner to Node & {:.2f} & {:.2f} & {:.2f} & {:.2f} & {:.2f} & {:.2f}\\\\\\ \\hline\\n\".format(exx_l2_corner,exy_l2_corner,exx_int_corner,exy_int_corner,exx_edg_corner,exy_edg_corner))\n",
    "file.write(\"Superconvergent Patch Recovery & {:.2f} & {:.2f} & {:.2f} & {:.2f} & {:.2f} & {:.2f} \\\\\\ \\hline\\n\".format(exx_l2_superc,exy_l2_superc,exx_int_superc,exy_int_superc,exx_edg_superc,exy_edg_superc))\n",
    "file.write(\"\\end{tabular}\\n\")\n",
    "file.write(\"\\end{center}\\n\")\n",
    "file.write(\"\\end{table}\\n\")\n",
    "file.close()"
   ]
  },
  {
   "cell_type": "code",
   "execution_count": 79,
   "metadata": {},
   "outputs": [
    {
     "name": "stdout",
     "output_type": "stream",
     "text": [
      "1.46\n"
     ]
    }
   ],
   "source": [
    "print(\"{:.2f}\".format(exx_edg_corner))"
   ]
  },
  {
   "cell_type": "code",
   "execution_count": null,
   "metadata": {},
   "outputs": [],
   "source": []
  }
 ],
 "metadata": {
  "kernelspec": {
   "display_name": "Python 3",
   "language": "python",
   "name": "python3"
  },
  "language_info": {
   "codemirror_mode": {
    "name": "ipython",
    "version": 3
   },
   "file_extension": ".py",
   "mimetype": "text/x-python",
   "name": "python",
   "nbconvert_exporter": "python",
   "pygments_lexer": "ipython3",
   "version": "3.6.2"
  }
 },
 "nbformat": 4,
 "nbformat_minor": 2
}
